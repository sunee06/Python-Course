{
 "cells": [
  {
   "cell_type": "code",
   "execution_count": 3,
   "id": "f3d94723-c353-4ffd-83c8-d2007d8da6b9",
   "metadata": {},
   "outputs": [
    {
     "name": "stdin",
     "output_type": "stream",
     "text": [
      "Enter string: \n",
      " a\n"
     ]
    },
    {
     "name": "stdout",
     "output_type": "stream",
     "text": [
      "vowels :  ['a']\n",
      "Vowels count :  1\n"
     ]
    }
   ],
   "source": [
    "string = input('Enter string: \\n')\n",
    "vowels = ['a', 'e', 'i', 'o', 'u']\n",
    "result = []\n",
    "for letter in vowels:\n",
    "    if letter in string:\n",
    "        result.append(letter)\n",
    "print('vowels : ', result) \n",
    "print('Vowels count : ', len(result))"
   ]
  },
  {
   "cell_type": "code",
   "execution_count": 9,
   "id": "c86414e4-7e02-4992-b32e-74c587f11b22",
   "metadata": {},
   "outputs": [
    {
     "name": "stdin",
     "output_type": "stream",
     "text": [
      "Enter string :\n",
      " aA3 3\n"
     ]
    },
    {
     "name": "stdout",
     "output_type": "stream",
     "text": [
      "1\n",
      "1\n",
      "1\n",
      "2\n"
     ]
    }
   ],
   "source": [
    "string = input('Enter string :\\n')\n",
    "uppercase_letter = []\n",
    "lowercase_letter = []\n",
    "whitespaces_letter = []\n",
    "digits = [] \n",
    "for char in string:\n",
    "    if char.isupper():\n",
    "        uppercase_letter.append(char)\n",
    "    if char.islower():\n",
    "        lowercase_letter.append(char)\n",
    "    if char.isspace():\n",
    "        whitespaces_letter.append(char)\n",
    "    if char.isdigit():\n",
    "        digits.append(char)\n",
    "        \n",
    "print(len(uppercase_letter))\n",
    "print(len(lowercase_letter))\n",
    "print(len(whitespaces_letter))\n",
    "print(len(digits))"
   ]
  },
  {
   "cell_type": "code",
   "execution_count": 11,
   "id": "f68763bb-595c-4f08-a427-4b14b3017ffb",
   "metadata": {},
   "outputs": [
    {
     "name": "stdin",
     "output_type": "stream",
     "text": [
      "Enter string:\n",
      " Suneel\n"
     ]
    },
    {
     "name": "stdout",
     "output_type": "stream",
     "text": [
      "luneeS\n"
     ]
    }
   ],
   "source": [
    "string = input('Enter string:\\n')\n",
    "\n",
    "if len(string) < 2:\n",
    "    new_string = string\n",
    "\n",
    "else:\n",
    "    new_string = string[-1] + string[1:-1] + string[0]\n",
    "    \n",
    "print(new_string) "
   ]
  },
  {
   "cell_type": "code",
   "execution_count": 13,
   "id": "b0560a48-faaa-4148-b67f-b2a2dddf8899",
   "metadata": {},
   "outputs": [
    {
     "name": "stdin",
     "output_type": "stream",
     "text": [
      "Enter string:  suneel\n"
     ]
    },
    {
     "name": "stdout",
     "output_type": "stream",
     "text": [
      "leenus\n"
     ]
    }
   ],
   "source": [
    "user_string = input('Enter string: ')\n",
    "\n",
    "result = reverse_string = user_string[::-1]\n",
    "\n",
    "print(result)"
   ]
  },
  {
   "cell_type": "code",
   "execution_count": 15,
   "id": "6743e457-851b-462f-8195-4afe71d49979",
   "metadata": {},
   "outputs": [
    {
     "name": "stdin",
     "output_type": "stream",
     "text": [
      "Enter some string:  suneel kumar\n"
     ]
    },
    {
     "name": "stdout",
     "output_type": "stream",
     "text": [
      "uneel kumars\n"
     ]
    }
   ],
   "source": [
    "user_string = input(\"Enter some string: \")\n",
    "\n",
    "if len(user_string) < 1:\n",
    "    new_string = user_string\n",
    "else:\n",
    "    new_string = user_string[1:] + user_string[0] \n",
    "\n",
    "print(new_string) "
   ]
  },
  {
   "cell_type": "code",
   "execution_count": 17,
   "id": "7f5937bc-2aff-493d-a7ef-b67a0ac9bffb",
   "metadata": {},
   "outputs": [
    {
     "name": "stdin",
     "output_type": "stream",
     "text": [
      "Enter Full name:  suneel kumar\n"
     ]
    },
    {
     "name": "stdout",
     "output_type": "stream",
     "text": [
      "Name initials:  S. K.\n"
     ]
    }
   ],
   "source": [
    "full_name = input(\"Enter Full name: \")\n",
    "initials = \"\"\n",
    "for i in range(len(full_name)):\n",
    "    if i == 0  or full_name[i-1] == \" \":\n",
    "        initials += full_name[i].upper() + \". \"\n",
    "        \n",
    "print(\"Name initials: \", initials.strip())"
   ]
  },
  {
   "cell_type": "code",
   "execution_count": 19,
   "id": "1aae0204-745a-46f1-b826-33b9dfa8eb8c",
   "metadata": {},
   "outputs": [
    {
     "name": "stdin",
     "output_type": "stream",
     "text": [
      "Enter String:  suneel\n"
     ]
    },
    {
     "name": "stdout",
     "output_type": "stream",
     "text": [
      "Not palindrome\n",
      "leenus\n"
     ]
    }
   ],
   "source": [
    "string = input(\"Enter String: \")\n",
    "\n",
    "reversed_string = \"\"\n",
    "reversed_string += string[::-1]\n",
    "\n",
    "if string == reversed_string:\n",
    "    print(\"Palindrome\")\n",
    "else:\n",
    "    print(\"Not palindrome\")\n",
    "\n",
    "\n",
    "print(reversed_string)"
   ]
  },
  {
   "cell_type": "code",
   "execution_count": 23,
   "id": "6548e498-5ed1-40a7-9bd3-103c754eab64",
   "metadata": {},
   "outputs": [
    {
     "name": "stdout",
     "output_type": "stream",
     "text": [
      "Python\n",
      "ythonP\n",
      "thonPy\n",
      "honPyt\n",
      "onPyth\n",
      "nPytho\n",
      "Python\n"
     ]
    }
   ],
   "source": [
    "word = \"Python\"\n",
    "\n",
    "for i in range(len(word) + 1):\n",
    "    rotated_word = word[i: ] + word[ :i]\n",
    "    \n",
    "    print(rotated_word)"
   ]
  },
  {
   "cell_type": "code",
   "execution_count": 31,
   "id": "1ee1b783-8753-4623-922e-4b34060ca50b",
   "metadata": {},
   "outputs": [
    {
     "name": "stdout",
     "output_type": "stream",
     "text": [
      "The password must be at least eight characters long. \n",
      "It must contain at least one uppercase letter.\n",
      "It must contain at least one lowercase letter.\n",
      "It must contain at least one numeric digit.\n",
      "\"Your program should perform this validation.\"\n"
     ]
    },
    {
     "name": "stdin",
     "output_type": "stream",
     "text": [
      "Enter a password:  123456789\n"
     ]
    },
    {
     "name": "stdout",
     "output_type": "stream",
     "text": [
      "Password must contain at least one uppercase letter.\n",
      "Password is invalid. Please try again.\n"
     ]
    }
   ],
   "source": [
    "print(\"The password must be at least eight characters long. \")\n",
    "print(\"It must contain at least one uppercase letter.\")\n",
    "print(\"It must contain at least one lowercase letter.\")\n",
    "print(\"It must contain at least one numeric digit.\")\n",
    "print(\"\\\"Your program should perform this validation.\\\"\")\n",
    "password = input(\"Enter a password: \")\n",
    "is_valid = True\n",
    "    \n",
    "if len(password) < 8:\n",
    "    is_valid = False\n",
    "    error_message = \"Password must be at least 8 characters long.\"\n",
    "    \n",
    "elif not any(char.isupper() for char in password):\n",
    "    is_valid = False\n",
    "    error_message = \"Password must contain at least one uppercase letter.\"\n",
    "\n",
    "elif not any(char.isdigit() for char in password):\n",
    "    is_valid = False\n",
    "    error_message = \"Password must contain at least one numeric digit.\"\n",
    "    \n",
    "elif not any(char.islower() for char in password):\n",
    "    is_valid = False\n",
    "    error_message = \"Password must contain at least one lowercase letter.\"\n",
    "    \n",
    "if is_valid:\n",
    "    print(\"Password is Valid !!\")\n",
    "else:\n",
    "    print(error_message)\n",
    "    print('Password is invalid. Please try again.')"
   ]
  },
  {
   "cell_type": "code",
   "execution_count": null,
   "id": "2c289656-c7bd-4520-8bc4-5f8491b57725",
   "metadata": {},
   "outputs": [],
   "source": []
  },
  {
   "cell_type": "code",
   "execution_count": null,
   "id": "d284f07f-bfac-45e9-b4b1-33790cf2ebca",
   "metadata": {},
   "outputs": [],
   "source": []
  }
 ],
 "metadata": {
  "kernelspec": {
   "display_name": "Python 3 (ipykernel)",
   "language": "python",
   "name": "python3"
  },
  "language_info": {
   "codemirror_mode": {
    "name": "ipython",
    "version": 3
   },
   "file_extension": ".py",
   "mimetype": "text/x-python",
   "name": "python",
   "nbconvert_exporter": "python",
   "pygments_lexer": "ipython3",
   "version": "3.12.4"
  }
 },
 "nbformat": 4,
 "nbformat_minor": 5
}
